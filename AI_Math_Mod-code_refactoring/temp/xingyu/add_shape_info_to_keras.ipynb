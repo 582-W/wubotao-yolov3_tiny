{
 "cells": [
  {
   "cell_type": "code",
   "execution_count": null,
   "metadata": {},
   "outputs": [],
   "source": [
    "import keras"
   ]
  },
  {
   "cell_type": "code",
   "execution_count": null,
   "metadata": {},
   "outputs": [],
   "source": [
    "model_path = \"/data1/yolov3_tiny.h5\"\n",
    "shape_size = 416"
   ]
  },
  {
   "cell_type": "code",
   "execution_count": null,
   "metadata": {},
   "outputs": [],
   "source": [
    "input_shape = (None, shape_size, shape_size, 3)\n",
    "\n",
    "model = keras.models.load_model(model_path)\n",
    "config = model.get_config()\n",
    "\n",
    "\n",
    "config['layers'][0]['config']['batch_input_shape'] = input_shape\n",
    "\n",
    "new_model = keras.models.Model.from_config(config)\n",
    "new_model.load_weights(model_path, by_name=True)\n",
    "new_model.save(model_path.replace(\".h5\", \"_{}.h5\".format(shape_size)))"
   ]
  },
  {
   "cell_type": "code",
   "execution_count": null,
   "metadata": {},
   "outputs": [],
   "source": []
  }
 ],
 "metadata": {
  "kernelspec": {
   "display_name": "Python 3",
   "language": "python",
   "name": "python3"
  },
  "language_info": {
   "codemirror_mode": {
    "name": "ipython",
    "version": 3
   },
   "file_extension": ".py",
   "mimetype": "text/x-python",
   "name": "python",
   "nbconvert_exporter": "python",
   "pygments_lexer": "ipython3",
   "version": "3.5.7"
  }
 },
 "nbformat": 4,
 "nbformat_minor": 2
}
