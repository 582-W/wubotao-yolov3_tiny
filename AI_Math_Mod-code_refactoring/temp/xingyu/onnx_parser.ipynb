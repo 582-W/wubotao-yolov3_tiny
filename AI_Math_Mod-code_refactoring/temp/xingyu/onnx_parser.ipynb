{
 "cells": [
  {
   "cell_type": "code",
   "execution_count": null,
   "metadata": {},
   "outputs": [],
   "source": [
    "import onnx\n",
    "from onnx import numpy_helper\n",
    "import keras\n",
    "from keras.models import load_model"
   ]
  },
  {
   "cell_type": "code",
   "execution_count": null,
   "metadata": {},
   "outputs": [],
   "source": [
    "def getNodeAndIOname(model):\n",
    "    for i in range(len(model.graph.node)):\n",
    "        \n",
    "        Node = model.graph.node[i]\n",
    "        input_name = model.graph.node[i].input\n",
    "        print(\"input_name: {}\".format(input_name))\n",
    "        output_name = model.graph.node[i].output\n",
    "        print(\"output_name: {}\".format(output_name))\n",
    "        name = model.graph.node[i].name\n",
    "        print(\"node name: {}\".format(model.graph.node[i].name))\n",
    "        print(\"op_type: {}\".format(model.graph.node[i].op_type))\n",
    "        print(\"=\" * 10) \n"
   ]
  },
  {
   "cell_type": "code",
   "execution_count": null,
   "metadata": {},
   "outputs": [],
   "source": [
    "onnx_file_path = \"/data1/yolov3_416.h5.onnx\"\n",
    "keras_file_path = \"/data1/yolov3_416.h5\""
   ]
  },
  {
   "cell_type": "code",
   "execution_count": null,
   "metadata": {},
   "outputs": [],
   "source": [
    "m = onnx.load(onnx_file_path)"
   ]
  },
  {
   "cell_type": "code",
   "execution_count": null,
   "metadata": {},
   "outputs": [],
   "source": [
    "getNodeAndIOname(m)"
   ]
  },
  {
   "cell_type": "markdown",
   "metadata": {},
   "source": [
    "# get structure of model"
   ]
  },
  {
   "cell_type": "code",
   "execution_count": null,
   "metadata": {},
   "outputs": [],
   "source": [
    "model = m\n",
    "node_list = []\n",
    "for i in range(len(model.graph.node)):\n",
    "        \n",
    "        cur_node = model.graph.node[i]\n",
    "        input_name = model.graph.node[i].input\n",
    "        print(\"input_name: {}\".format(input_name))\n",
    "        output_name = model.graph.node[i].output\n",
    "        print(\"output_name: {}\".format(output_name))\n",
    "        name = model.graph.node[i].name\n",
    "        print(\"node name: {}\".format(model.graph.node[i].name))\n",
    "        \n",
    "        if len(input_name) > 0 and len(output_name) > 0:\n",
    "            dict_ = {}\n",
    "            dict_['name'] = name\n",
    "            if len(input_name) > 1:\n",
    "                dict_['weight_name'] = input_name[1:]\n",
    "            node_list.append(dict_)\n",
    "        print(\"=\" * 10)"
   ]
  },
  {
   "cell_type": "code",
   "execution_count": null,
   "metadata": {},
   "outputs": [],
   "source": [
    "print(len(node_list))"
   ]
  },
  {
   "cell_type": "code",
   "execution_count": null,
   "metadata": {},
   "outputs": [],
   "source": [
    "print(node_list)"
   ]
  },
  {
   "cell_type": "code",
   "execution_count": null,
   "metadata": {},
   "outputs": [],
   "source": [
    "node_list = [ele for ele in node_list if \"activation\" not in ele['name']]\n",
    "print(len(node_list))\n",
    "print(node_list)"
   ]
  },
  {
   "cell_type": "code",
   "execution_count": null,
   "metadata": {},
   "outputs": [],
   "source": [
    "keras_model = load_model(keras_file_path)"
   ]
  },
  {
   "cell_type": "code",
   "execution_count": null,
   "metadata": {},
   "outputs": [],
   "source": [
    "keras_layer_name_list = []\n",
    "for layer in keras_model.layers:\n",
    "    keras_layer_name_list.append(layer.name)\n",
    "print(len(keras_layer_name_list))\n",
    "print(keras_layer_name_list)"
   ]
  },
  {
   "cell_type": "code",
   "execution_count": null,
   "metadata": {},
   "outputs": [],
   "source": [
    "init_t = [init for init in m.graph.initializer]"
   ]
  },
  {
   "cell_type": "code",
   "execution_count": null,
   "metadata": {},
   "outputs": [],
   "source": [
    "print(init_t)"
   ]
  },
  {
   "cell_type": "code",
   "execution_count": null,
   "metadata": {},
   "outputs": [],
   "source": [
    "weights = m.graph.initializer"
   ]
  },
  {
   "cell_type": "code",
   "execution_count": null,
   "metadata": {},
   "outputs": [],
   "source": [
    "print(len(m.graph.node))"
   ]
  },
  {
   "cell_type": "code",
   "execution_count": null,
   "metadata": {},
   "outputs": [],
   "source": [
    "node = m.graph.node[0]"
   ]
  },
  {
   "cell_type": "code",
   "execution_count": null,
   "metadata": {},
   "outputs": [],
   "source": [
    "print(node.attribute)"
   ]
  },
  {
   "cell_type": "code",
   "execution_count": null,
   "metadata": {},
   "outputs": [],
   "source": [
    "print(node.attribute[0].t.float_data)"
   ]
  },
  {
   "cell_type": "markdown",
   "metadata": {},
   "source": [
    "# modify weight "
   ]
  },
  {
   "cell_type": "code",
   "execution_count": null,
   "metadata": {},
   "outputs": [],
   "source": [
    "print(m.graph.node[0].attribute[0].t.float_data)"
   ]
  },
  {
   "cell_type": "code",
   "execution_count": null,
   "metadata": {},
   "outputs": [],
   "source": [
    "m.graph.node[0].attribute[0].t.float_data[0] = 0\n",
    "m.graph.node[0].attribute[0].t.float_data[1] = 0"
   ]
  },
  {
   "cell_type": "code",
   "execution_count": null,
   "metadata": {},
   "outputs": [],
   "source": [
    "print(m.graph.node[0].attribute[0].t.float_data)"
   ]
  },
  {
   "cell_type": "code",
   "execution_count": null,
   "metadata": {},
   "outputs": [],
   "source": [
    "onnx.save(m, '/data1/yolov3_416.h5.updated.onnx')"
   ]
  },
  {
   "cell_type": "code",
   "execution_count": null,
   "metadata": {},
   "outputs": [],
   "source": [
    "m = onnx.load('/data1/yolov3_416.h5.updated.onnx')"
   ]
  },
  {
   "cell_type": "code",
   "execution_count": null,
   "metadata": {},
   "outputs": [],
   "source": [
    "print(m.graph.node[0].attribute[0].t.float_data)"
   ]
  }
 ],
 "metadata": {
  "kernelspec": {
   "display_name": "Python 3",
   "language": "python",
   "name": "python3"
  },
  "language_info": {
   "codemirror_mode": {
    "name": "ipython",
    "version": 3
   },
   "file_extension": ".py",
   "mimetype": "text/x-python",
   "name": "python",
   "nbconvert_exporter": "python",
   "pygments_lexer": "ipython3",
   "version": "3.5.7"
  }
 },
 "nbformat": 4,
 "nbformat_minor": 2
}
